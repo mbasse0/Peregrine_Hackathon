{
 "cells": [
  {
   "cell_type": "code",
   "execution_count": 1,
   "metadata": {},
   "outputs": [
    {
     "name": "stdout",
     "output_type": "stream",
     "text": [
      "   p  t  i  S_pti\n",
      "0  0  0  0     61\n",
      "1  0  0  1     24\n",
      "2  0  0  2     81\n",
      "3  0  1  0     70\n",
      "4  0  1  1     30\n"
     ]
    }
   ],
   "source": [
    "import numpy as np\n",
    "import pandas as pd\n",
    "\n",
    "# Define sizes\n",
    "num_projects = 5\n",
    "num_infra_types = 3\n",
    "num_months = 12\n",
    "\n",
    "P = range(num_projects)\n",
    "I = range(num_infra_types)\n",
    "T = range(num_months)\n",
    "\n",
    "# Generate random benefit scores S[p, t, i]\n",
    "np.random.seed(42)  # for reproducibility\n",
    "S = np.random.randint(10, 100, size=(num_projects, num_months, num_infra_types))\n",
    "\n",
    "# Convert to DataFrame for easy viewing\n",
    "S_df = pd.DataFrame([\n",
    "    {'p': p, 't': t, 'i': i, 'S_pti': S[p, t, i]}\n",
    "    for p in P for t in T for i in I\n",
    "])\n",
    "\n",
    "print(S_df.head())\n",
    "\n"
   ]
  },
  {
   "cell_type": "code",
   "execution_count": 16,
   "metadata": {},
   "outputs": [
    {
     "data": {
      "text/plain": [
       "{0: 1, 1: 3, 2: 3}"
      ]
     },
     "execution_count": 16,
     "metadata": {},
     "output_type": "execute_result"
    }
   ],
   "source": [
    "delta"
   ]
  },
  {
   "cell_type": "code",
   "execution_count": 37,
   "metadata": {},
   "outputs": [],
   "source": [
    "import cplex"
   ]
  },
  {
   "cell_type": "code",
   "execution_count": 38,
   "metadata": {},
   "outputs": [
    {
     "ename": "PulpSolverError",
     "evalue": "CPLEX_PY: Not Available:\nNo module named 'cplex'",
     "output_type": "error",
     "traceback": [
      "\u001b[0;31m---------------------------------------------------------------------------\u001b[0m",
      "\u001b[0;31mPulpSolverError\u001b[0m                           Traceback (most recent call last)",
      "Cell \u001b[0;32mIn[38], line 54\u001b[0m\n\u001b[1;32m     49\u001b[0m                     prob \u001b[38;5;241m+\u001b[39m\u001b[38;5;241m=\u001b[39m z[p, t, i] \u001b[38;5;241m<\u001b[39m\u001b[38;5;241m=\u001b[39m x[p, tau, i], \u001b[38;5;124mf\u001b[39m\u001b[38;5;124m\"\u001b[39m\u001b[38;5;124mLink_\u001b[39m\u001b[38;5;132;01m{\u001b[39;00mp\u001b[38;5;132;01m}\u001b[39;00m\u001b[38;5;124m_\u001b[39m\u001b[38;5;132;01m{\u001b[39;00mt\u001b[38;5;132;01m}\u001b[39;00m\u001b[38;5;124m_\u001b[39m\u001b[38;5;132;01m{\u001b[39;00mi\u001b[38;5;132;01m}\u001b[39;00m\u001b[38;5;124m_\u001b[39m\u001b[38;5;132;01m{\u001b[39;00mtau\u001b[38;5;132;01m}\u001b[39;00m\u001b[38;5;124m\"\u001b[39m\n\u001b[1;32m     51\u001b[0m \u001b[38;5;66;03m# --- Solve ---\u001b[39;00m\n\u001b[1;32m     52\u001b[0m \u001b[38;5;66;03m# prob.solve()\u001b[39;00m\n\u001b[1;32m     53\u001b[0m \u001b[38;5;66;03m# prob.solve(pulp.CPLEX_CMD(msg=True))\u001b[39;00m\n\u001b[0;32m---> 54\u001b[0m \u001b[43mprob\u001b[49m\u001b[38;5;241;43m.\u001b[39;49m\u001b[43msolve\u001b[49m\u001b[43m(\u001b[49m\u001b[43mpulp\u001b[49m\u001b[38;5;241;43m.\u001b[39;49m\u001b[43mCPLEX_PY\u001b[49m\u001b[43m(\u001b[49m\u001b[43mmsg\u001b[49m\u001b[38;5;241;43m=\u001b[39;49m\u001b[38;5;28;43;01mTrue\u001b[39;49;00m\u001b[43m)\u001b[49m\u001b[43m)\u001b[49m\n\u001b[1;32m     58\u001b[0m \u001b[38;5;66;03m# --- Visual Output ---\u001b[39;00m\n\u001b[1;32m     59\u001b[0m \u001b[38;5;66;03m# Create a DataFrame of selected (z=1) decisions\u001b[39;00m\n\u001b[1;32m     60\u001b[0m solution \u001b[38;5;241m=\u001b[39m []\n",
      "File \u001b[0;32m/opt/anaconda3/envs/peregrine_hackathon/lib/python3.10/site-packages/pulp/pulp.py:2007\u001b[0m, in \u001b[0;36mLpProblem.solve\u001b[0;34m(self, solver, **kwargs)\u001b[0m\n\u001b[1;32m   2005\u001b[0m \u001b[38;5;66;03m# time it\u001b[39;00m\n\u001b[1;32m   2006\u001b[0m \u001b[38;5;28mself\u001b[39m\u001b[38;5;241m.\u001b[39mstartClock()\n\u001b[0;32m-> 2007\u001b[0m status \u001b[38;5;241m=\u001b[39m \u001b[43msolver\u001b[49m\u001b[38;5;241;43m.\u001b[39;49m\u001b[43mactualSolve\u001b[49m\u001b[43m(\u001b[49m\u001b[38;5;28;43mself\u001b[39;49m\u001b[43m,\u001b[49m\u001b[43m \u001b[49m\u001b[38;5;241;43m*\u001b[39;49m\u001b[38;5;241;43m*\u001b[39;49m\u001b[43mkwargs\u001b[49m\u001b[43m)\u001b[49m\n\u001b[1;32m   2008\u001b[0m \u001b[38;5;28mself\u001b[39m\u001b[38;5;241m.\u001b[39mstopClock()\n\u001b[1;32m   2009\u001b[0m \u001b[38;5;28mself\u001b[39m\u001b[38;5;241m.\u001b[39mrestoreObjective(wasNone, dummyVar)\n",
      "File \u001b[0;32m/opt/anaconda3/envs/peregrine_hackathon/lib/python3.10/site-packages/pulp/apis/cplex_api.py:265\u001b[0m, in \u001b[0;36mCPLEX_PY.actualSolve\u001b[0;34m(self, lp)\u001b[0m\n\u001b[1;32m    263\u001b[0m \u001b[38;5;28;01mdef\u001b[39;00m \u001b[38;5;21mactualSolve\u001b[39m(\u001b[38;5;28mself\u001b[39m, lp):\n\u001b[1;32m    264\u001b[0m \u001b[38;5;250m    \u001b[39m\u001b[38;5;124;03m\"\"\"Solve a well formulated lp problem\"\"\"\u001b[39;00m\n\u001b[0;32m--> 265\u001b[0m     \u001b[38;5;28;01mraise\u001b[39;00m PulpSolverError(\u001b[38;5;124mf\u001b[39m\u001b[38;5;124m\"\u001b[39m\u001b[38;5;124mCPLEX_PY: Not Available:\u001b[39m\u001b[38;5;130;01m\\n\u001b[39;00m\u001b[38;5;132;01m{\u001b[39;00m\u001b[38;5;28mself\u001b[39m\u001b[38;5;241m.\u001b[39merr\u001b[38;5;132;01m}\u001b[39;00m\u001b[38;5;124m\"\u001b[39m)\n",
      "\u001b[0;31mPulpSolverError\u001b[0m: CPLEX_PY: Not Available:\nNo module named 'cplex'"
     ]
    }
   ],
   "source": [
    "import numpy as np\n",
    "import pandas as pd\n",
    "import pulp\n",
    "import matplotlib.pyplot as plt\n",
    "import seaborn as sns\n",
    "\n",
    "\n",
    "# --- Problem Setup ---\n",
    "num_projects = 50\n",
    "num_infra_types = 3\n",
    "num_months = 12\n",
    "\n",
    "P = range(num_projects)\n",
    "I = range(num_infra_types)\n",
    "T = range(num_months)\n",
    "\n",
    "np.random.seed(42)\n",
    "\n",
    "S = np.random.randint(10, 100, size=(num_projects, num_months, num_infra_types))\n",
    "delta = {i: np.random.randint(1, 4) for i in I}\n",
    "b = {t: 500 for t in T}\n",
    "c = {(i, t): np.random.randint(10, 300) for i in I for t in range(num_months)}\n",
    "\n",
    "# --- PuLP Model ---\n",
    "prob = pulp.LpProblem(\"Infrastructure_Investment\", pulp.LpMaximize)\n",
    "\n",
    "z = pulp.LpVariable.dicts(\"z\", ((p, t, i) for p in P for t in T for i in I), cat='Binary')\n",
    "x = pulp.LpVariable.dicts(\"x\", ((p, tau, i) for p in P for tau in T for i in I), cat='Binary')\n",
    "\n",
    "# Objective\n",
    "prob += pulp.lpSum(z[p, t, i] * S[p, t, i] for p in P for t in T for i in I)\n",
    "\n",
    "# Constraints\n",
    "for t in T:\n",
    "    prob += (\n",
    "        pulp.lpSum(\n",
    "            x[p, tau, i] * c.get((i, t - tau), 0)\n",
    "            for p in P for tau in T for i in I\n",
    "            if 0 <= t - tau < delta[i]\n",
    "        ) <= b[t], f\"Budget_t{t}\"\n",
    "    )\n",
    "\n",
    "\n",
    "for p in P:\n",
    "    for i in I:\n",
    "        for t in T:\n",
    "            for tau in T:\n",
    "                if t <= tau + delta[i]:\n",
    "                    prob += z[p, t, i] <= x[p, tau, i], f\"Link_{p}_{t}_{i}_{tau}\"\n",
    "\n",
    "# --- Solve ---\n",
    "# prob.solve()\n",
    "# prob.solve(pulp.CPLEX_CMD(msg=True))\n",
    "prob.solve(pulp.CPLEX_PY(msg=True))\n",
    "\n",
    "\n",
    "\n",
    "# --- Visual Output ---\n",
    "# Create a DataFrame of selected (z=1) decisions\n",
    "solution = []\n",
    "\n",
    "for p in P:\n",
    "    for t in T:\n",
    "        for i in I:\n",
    "            if pulp.value(z[p, t, i]) == 1:\n",
    "                solution.append({\n",
    "                    'Project': p,\n",
    "                    'Start_Month': t,\n",
    "                    'Infrastructure': i,\n",
    "                    'Score': S[p, t, i]\n",
    "                })\n",
    "\n",
    "solution_df = pd.DataFrame(solution)\n",
    "print(\"Chosen project-infrastructure-time combinations:\")\n",
    "print(solution_df)\n",
    "\n",
    "\n",
    "\n"
   ]
  },
  {
   "cell_type": "code",
   "execution_count": 18,
   "metadata": {},
   "outputs": [
    {
     "name": "stdout",
     "output_type": "stream",
     "text": [
      "\n",
      "📊 Monthly Budget Usage:\n",
      "    Month  Used_Budget  Available_Budget\n",
      "0       0          0.0               500\n",
      "1       1          0.0               500\n",
      "2       2          0.0               500\n",
      "3       3          0.0               500\n",
      "4       4          0.0               500\n",
      "5       5          0.0               500\n",
      "6       6         12.0               500\n",
      "7       7        148.0               500\n",
      "8       8        345.0               500\n",
      "9       9        368.0               500\n",
      "10     10        389.0               500\n",
      "11     11        485.0               500\n"
     ]
    },
    {
     "data": {
      "image/png": "[encoded data removed]",
      "text/plain": [
       "<Figure size 1000x500 with 1 Axes>"
      ]
     },
     "metadata": {},
     "output_type": "display_data"
    }
   ],
   "source": [
    "# Track used budget per month\n",
    "used_budget = {t: 0 for t in T}\n",
    "\n",
    "for t in T:\n",
    "    for p in P:\n",
    "        for tau in T:\n",
    "            if tau <= t:\n",
    "                for i in I:\n",
    "                    cost = c.get((i, t - tau), 0)\n",
    "                    used_budget[t] += pulp.value(x[p, tau, i]) * cost\n",
    "\n",
    "# Create a DataFrame for plotting\n",
    "budget_df = pd.DataFrame({\n",
    "    'Month': list(T),\n",
    "    'Used_Budget': [used_budget[t] for t in T],\n",
    "    'Available_Budget': [b[t] for t in T]\n",
    "})\n",
    "\n",
    "print(\"\\n📊 Monthly Budget Usage:\")\n",
    "print(budget_df)\n",
    "\n",
    "# Plot budget usage\n",
    "import matplotlib.pyplot as plt\n",
    "\n",
    "plt.figure(figsize=(10, 5))\n",
    "plt.bar(budget_df['Month'], budget_df['Available_Budget'], alpha=0.5, label='Available Budget')\n",
    "plt.bar(budget_df['Month'], budget_df['Used_Budget'], alpha=0.8, label='Used Budget')\n",
    "plt.xlabel('Month')\n",
    "plt.ylabel('Budget')\n",
    "plt.title('Monthly Budget Usage vs Availability')\n",
    "plt.legend()\n",
    "plt.grid(True)\n",
    "plt.tight_layout()\n",
    "plt.show()\n"
   ]
  },
  {
   "cell_type": "code",
   "execution_count": 15,
   "metadata": {},
   "outputs": [
    {
     "name": "stdout",
     "output_type": "stream",
     "text": [
      "Nonzero z values (selected project starts):\n",
      "z(3, 11, 0) = 1\n"
     ]
    }
   ],
   "source": [
    "\n"
   ]
  },
  {
   "cell_type": "markdown",
   "metadata": {},
   "source": [
    "# Gurobi"
   ]
  },
  {
   "cell_type": "code",
   "execution_count": 27,
   "metadata": {},
   "outputs": [
    {
     "name": "stdout",
     "output_type": "stream",
     "text": [
      "Set parameter OutputFlag to value 1\n",
      "Gurobi Optimizer version 12.0.1 build v12.0.1rc0 (mac64[arm] - Darwin 24.1.0 24B91)\n",
      "\n",
      "CPU model: Apple M1 Pro\n",
      "Thread count: 8 physical cores, 8 logical processors, using up to 8 threads\n",
      "\n"
     ]
    },
    {
     "ename": "GurobiError",
     "evalue": "Model too large for size-limited license; visit https://gurobi.com/unrestricted for more information",
     "output_type": "error",
     "traceback": [
      "\u001b[0;31m---------------------------------------------------------------------------\u001b[0m",
      "\u001b[0;31mGurobiError\u001b[0m                               Traceback (most recent call last)",
      "Cell \u001b[0;32mIn[27], line 51\u001b[0m\n\u001b[1;32m     48\u001b[0m                     m\u001b[38;5;241m.\u001b[39maddConstr(z[p, t, i] \u001b[38;5;241m<\u001b[39m\u001b[38;5;241m=\u001b[39m x[p, tau, i], name\u001b[38;5;241m=\u001b[39m\u001b[38;5;124mf\u001b[39m\u001b[38;5;124m\"\u001b[39m\u001b[38;5;124mLink_\u001b[39m\u001b[38;5;132;01m{\u001b[39;00mp\u001b[38;5;132;01m}\u001b[39;00m\u001b[38;5;124m_\u001b[39m\u001b[38;5;132;01m{\u001b[39;00mt\u001b[38;5;132;01m}\u001b[39;00m\u001b[38;5;124m_\u001b[39m\u001b[38;5;132;01m{\u001b[39;00mi\u001b[38;5;132;01m}\u001b[39;00m\u001b[38;5;124m_\u001b[39m\u001b[38;5;132;01m{\u001b[39;00mtau\u001b[38;5;132;01m}\u001b[39;00m\u001b[38;5;124m\"\u001b[39m)\n\u001b[1;32m     50\u001b[0m \u001b[38;5;66;03m# Solve\u001b[39;00m\n\u001b[0;32m---> 51\u001b[0m \u001b[43mm\u001b[49m\u001b[38;5;241;43m.\u001b[39;49m\u001b[43moptimize\u001b[49m\u001b[43m(\u001b[49m\u001b[43m)\u001b[49m\n\u001b[1;32m     53\u001b[0m \u001b[38;5;66;03m# Extract solution\u001b[39;00m\n\u001b[1;32m     54\u001b[0m solution \u001b[38;5;241m=\u001b[39m []\n",
      "File \u001b[0;32msrc/gurobipy/_model.pyx:903\u001b[0m, in \u001b[0;36mgurobipy._model.Model.optimize\u001b[0;34m()\u001b[0m\n",
      "\u001b[0;31mGurobiError\u001b[0m: Model too large for size-limited license; visit https://gurobi.com/unrestricted for more information"
     ]
    }
   ],
   "source": [
    "import numpy as np\n",
    "import pandas as pd\n",
    "from gurobipy import Model, GRB, quicksum\n",
    "\n",
    "# Problem Setup\n",
    "num_projects = 10\n",
    "num_infra_types = 3\n",
    "num_months = 12\n",
    "\n",
    "P = range(num_projects)\n",
    "I = range(num_infra_types)\n",
    "T = range(num_months)\n",
    "\n",
    "np.random.seed(42)\n",
    "S = np.random.randint(10, 100, size=(num_projects, num_months, num_infra_types))\n",
    "delta = {i: np.random.randint(1, 4) for i in I}\n",
    "b = {t: 500 for t in T}\n",
    "c = {(i, t): np.random.randint(10, 300) for i in I for t in range(num_months)}\n",
    "\n",
    "# Create Gurobi model\n",
    "m = Model(\"Infrastructure_Investment\")\n",
    "m.Params.OutputFlag = 1  # Turn off to suppress output\n",
    "\n",
    "# Decision variables\n",
    "z = m.addVars(P, T, I, vtype=GRB.BINARY, name=\"z\")\n",
    "x = m.addVars(P, T, I, vtype=GRB.BINARY, name=\"x\")\n",
    "\n",
    "# Objective function\n",
    "m.setObjective(quicksum(z[p, t, i] * S[p, t, i] for p in P for t in T for i in I), GRB.MAXIMIZE)\n",
    "\n",
    "# Budget constraints\n",
    "for t in T:\n",
    "    m.addConstr(\n",
    "        quicksum(\n",
    "            x[p, tau, i] * c.get((i, t - tau), 0)\n",
    "            for p in P for tau in T for i in I\n",
    "            if 0 <= t - tau < delta[i]\n",
    "        ) <= b[t],\n",
    "        name=f\"Budget_t{t}\"\n",
    "    )\n",
    "\n",
    "# Linking constraints\n",
    "for p in P:\n",
    "    for i in I:\n",
    "        for t in T:\n",
    "            for tau in T:\n",
    "                if t <= tau + delta[i]:\n",
    "                    m.addConstr(z[p, t, i] <= x[p, tau, i], name=f\"Link_{p}_{t}_{i}_{tau}\")\n",
    "\n",
    "# Solve\n",
    "m.optimize()\n",
    "\n",
    "# Extract solution\n",
    "solution = []\n",
    "for p in P:\n",
    "    for t in T:\n",
    "        for i in I:\n",
    "            if z[p, t, i].X > 0.5:\n",
    "                solution.append({\n",
    "                    'Project': p,\n",
    "                    'Start_Month': t,\n",
    "                    'Infrastructure': i,\n",
    "                    'Score': S[p, t, i]\n",
    "                })\n",
    "\n",
    "solution_df = pd.DataFrame(solution)\n",
    "print(solution_df.head())\n"
   ]
  },
  {
   "cell_type": "code",
   "execution_count": 26,
   "metadata": {},
   "outputs": [
    {
     "name": "stdout",
     "output_type": "stream",
     "text": [
      "\n",
      "📊 Monthly Budget Usage:\n",
      "   Month  Used_Budget  Available_Budget\n",
      "0      0          0.0               500\n",
      "1      1          0.0               500\n",
      "2      2          0.0               500\n",
      "3      3          0.0               500\n",
      "4      4          0.0               500\n",
      "5      5          0.0               500\n"
     ]
    },
    {
     "data": {
      "image/png": "[encoded data removed]",
      "text/plain": [
       "<Figure size 1000x500 with 1 Axes>"
      ]
     },
     "metadata": {},
     "output_type": "display_data"
    }
   ],
   "source": [
    "# Track used budget per month\n",
    "used_budget = {t: 0 for t in T}\n",
    "\n",
    "for t in T:\n",
    "    for p in P:\n",
    "        for tau in T:\n",
    "            if tau <= t:\n",
    "                for i in I:\n",
    "                    cost = c.get((i, t - tau), 0)\n",
    "                    var_val = x[p, tau, i].X  # Gurobi syntax\n",
    "                    used_budget[t] += var_val * cost\n",
    "\n",
    "# Create DataFrame for plotting\n",
    "budget_df = pd.DataFrame({\n",
    "    'Month': list(T),\n",
    "    'Used_Budget': [used_budget[t] for t in T],\n",
    "    'Available_Budget': [b[t] for t in T]\n",
    "})\n",
    "\n",
    "print(\"\\n📊 Monthly Budget Usage:\")\n",
    "print(budget_df)\n",
    "\n",
    "# Plot budget usage\n",
    "import matplotlib.pyplot as plt\n",
    "\n",
    "plt.figure(figsize=(10, 5))\n",
    "plt.bar(budget_df['Month'], budget_df['Available_Budget'], alpha=0.5, label='Available Budget')\n",
    "plt.bar(budget_df['Month'], budget_df['Used_Budget'], alpha=0.8, label='Used Budget')\n",
    "plt.xlabel('Month')\n",
    "plt.ylabel('Budget')\n",
    "plt.title('Monthly Budget Usage vs Availability')\n",
    "plt.legend()\n",
    "plt.grid(True)\n",
    "plt.tight_layout()\n",
    "plt.show()\n",
    "\n"
   ]
  },
  {
   "cell_type": "code",
   "execution_count": null,
   "metadata": {},
   "outputs": [],
   "source": []
  }
 ],
 "metadata": {
  "kernelspec": {
   "display_name": "peregrine_hackathon",
   "language": "python",
   "name": "python3"
  },
  "language_info": {
   "codemirror_mode": {
    "name": "ipython",
    "version": 3
   },
   "file_extension": ".py",
   "mimetype": "text/x-python",
   "name": "python",
   "nbconvert_exporter": "python",
   "pygments_lexer": "ipython3",
   "version": "3.10.16"
  }
 },
 "nbformat": 4,
 "nbformat_minor": 2
}
